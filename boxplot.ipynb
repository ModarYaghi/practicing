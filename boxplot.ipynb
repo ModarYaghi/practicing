{
 "cells": [
  {
   "cell_type": "code",
   "execution_count": null,
   "id": "initial_id",
   "metadata": {
    "collapsed": true
   },
   "outputs": [],
   "source": [
    "import numpy as np\n",
    "import pandas as pd\n",
    "import matplotlib.pyplot as plt"
   ]
  },
  {
   "cell_type": "code",
   "outputs": [],
   "source": [
    "airbnb = pd.read_csv(r'listings/listings.csv')"
   ],
   "metadata": {
    "collapsed": false
   },
   "id": "16ef06a28c7fc9ca",
   "execution_count": null
  },
  {
   "cell_type": "code",
   "outputs": [],
   "source": [
    "airbnb2 = pd.read_csv(r'listings/listings2.csv')"
   ],
   "metadata": {
    "collapsed": false
   },
   "id": "a8f1aac40bf8c01",
   "execution_count": null
  },
  {
   "cell_type": "code",
   "outputs": [],
   "source": [
    "assessments = pd.read_csv(r'fc_assessments.csv')"
   ],
   "metadata": {
    "collapsed": false
   },
   "id": "adf85a2cd0d6ca49",
   "execution_count": null
  },
  {
   "cell_type": "code",
   "outputs": [],
   "source": [
    "# assessments"
   ],
   "metadata": {
    "collapsed": false
   },
   "id": "4d99d3cb4a047282",
   "execution_count": null
  }
 ],
 "metadata": {
  "kernelspec": {
   "display_name": "Python 3",
   "language": "python",
   "name": "python3"
  },
  "language_info": {
   "codemirror_mode": {
    "name": "ipython",
    "version": 2
   },
   "file_extension": ".py",
   "mimetype": "text/x-python",
   "name": "python",
   "nbconvert_exporter": "python",
   "pygments_lexer": "ipython2",
   "version": "2.7.6"
  }
 },
 "nbformat": 4,
 "nbformat_minor": 5
}
